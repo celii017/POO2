{
  "nbformat": 4,
  "nbformat_minor": 0,
  "metadata": {
    "colab": {
      "provenance": [],
      "authorship_tag": "ABX9TyOrpvf8dWaKoAHbzowWC4/c",
      "include_colab_link": true
    },
    "kernelspec": {
      "name": "python3",
      "display_name": "Python 3"
    },
    "language_info": {
      "name": "python"
    }
  },
  "cells": [
    {
      "cell_type": "markdown",
      "metadata": {
        "id": "view-in-github",
        "colab_type": "text"
      },
      "source": [
        "<a href=\"https://colab.research.google.com/github/celii017/POO2/blob/main/Unidad1/Programa1.ipynb\" target=\"_parent\"><img src=\"https://colab.research.google.com/assets/colab-badge.svg\" alt=\"Open In Colab\"/></a>"
      ]
    },
    {
      "cell_type": "code",
      "execution_count": 2,
      "metadata": {
        "colab": {
          "base_uri": "https://localhost:8080/"
        },
        "id": "iqCCkAZfcXUF",
        "outputId": "e57bb9aa-4afa-40fa-9795-3e3631dde22c"
      },
      "outputs": [
        {
          "output_type": "stream",
          "name": "stdout",
          "text": [
            "Escribe tu nombreCelina \n",
            "Tu nombre es, variable\n"
          ]
        }
      ],
      "source": [
        "variable = input(\"Escribe tu nombre\")\n",
        "print(\"Tu nombre es, variable\")"
      ]
    },
    {
      "cell_type": "code",
      "source": [
        "nom = input(\"Me puedes decir tu nombre porfavor?\")\n",
        "ape = input(\"Me puedes dar tu apellido porfavor?\")\n",
        "print(\"Gracias\")\n",
        "print(\"/nTu nombre es \" + nom + \"\" + ape + \".\")\n",
        "print(\"/nTu nombre es \" , nom , ape ,\".\")"
      ],
      "metadata": {
        "colab": {
          "base_uri": "https://localhost:8080/"
        },
        "id": "9W8RY2hKdDPX",
        "outputId": "ce49a58f-5361-4bcc-be3c-3e24033b0b2c"
      },
      "execution_count": 5,
      "outputs": [
        {
          "output_type": "stream",
          "name": "stdout",
          "text": [
            "Me puedes decir tu nombre porfavor?Celina\n",
            "Me puedes dar tu apellido porfavor?Castillo\n",
            "Gracias\n",
            "/nTu nombre es CelinaCastillo.\n",
            "/nTu nombre es  Celina Castillo .\n"
          ]
        }
      ]
    },
    {
      "cell_type": "code",
      "source": [
        "# Marca el error porque se debe convertir el tipo de dato\n",
        "X = input(\"Dame un numero para multiplicar\")\n",
        "Z = X * 5\n",
        "print(Z)"
      ],
      "metadata": {
        "colab": {
          "base_uri": "https://localhost:8080/"
        },
        "id": "kNyPWb3vecXV",
        "outputId": "d3ab5d8e-4f98-499c-a046-ac8f8bd378e2"
      },
      "execution_count": 7,
      "outputs": [
        {
          "output_type": "stream",
          "name": "stdout",
          "text": [
            "Dame un numero para multiplicar7\n",
            "77777\n"
          ]
        }
      ]
    },
    {
      "cell_type": "code",
      "source": [
        "X = int(input(\"Dame un numero para multiplicar\") )\n",
        "Z = X * 5\n",
        "print(Z)"
      ],
      "metadata": {
        "colab": {
          "base_uri": "https://localhost:8080/"
        },
        "id": "mY0uATkSfUqd",
        "outputId": "ff9f3a0b-63d4-4727-fa60-602550782176"
      },
      "execution_count": 8,
      "outputs": [
        {
          "output_type": "stream",
          "name": "stdout",
          "text": [
            "Dame un numero para multiplicar4\n",
            "20\n"
          ]
        }
      ]
    },
    {
      "cell_type": "code",
      "source": [
        "cateto_a = float(input(\"Inserta la longuitud del primer cateto: \"))\n",
        "cateto_b = float(input(\"Inserta la longuitud del segundo cateto: \"))\n",
        "hipo = (cateto_a**2 + cateto_b**2) ** .5\n",
        "print(\"La longuitud de la hipotenusa es: \", hipo)\n"
      ],
      "metadata": {
        "colab": {
          "base_uri": "https://localhost:8080/"
        },
        "id": "mny7xxtcf869",
        "outputId": "1f1b850a-f325-4ace-d1fa-a81c2c55569c"
      },
      "execution_count": 9,
      "outputs": [
        {
          "output_type": "stream",
          "name": "stdout",
          "text": [
            "Inserta la longuitud del primer cateto: 10\n",
            "Inserta la longuitud del segundo cateto: 5\n",
            "La longuitud de la hipotenusa es:  11.180339887498949\n"
          ]
        }
      ]
    },
    {
      "cell_type": "code",
      "source": [
        "#\n",
        "a = 3000\n",
        "b = 12500\n",
        "if b > a:\n",
        "  print(\"b es mayor que a\")\n",
        "else:\n",
        "  print(\"a es mayor que b\")\n",
        "\n",
        "  print(\"Fin del if\")"
      ],
      "metadata": {
        "colab": {
          "base_uri": "https://localhost:8080/"
        },
        "id": "tIAWiDmVjpUL",
        "outputId": "26aec19e-1892-4bfc-cca0-2c0f188ea31f"
      },
      "execution_count": 10,
      "outputs": [
        {
          "output_type": "stream",
          "name": "stdout",
          "text": [
            "b es mayor que a\n"
          ]
        }
      ]
    }
  ]
}