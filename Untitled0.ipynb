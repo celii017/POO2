{
  "nbformat": 4,
  "nbformat_minor": 0,
  "metadata": {
    "colab": {
      "provenance": [],
      "authorship_tag": "ABX9TyOeOMu52/AKZiNILc8i53H9",
      "include_colab_link": true
    },
    "kernelspec": {
      "name": "python3",
      "display_name": "Python 3"
    },
    "language_info": {
      "name": "python"
    }
  },
  "cells": [
    {
      "cell_type": "markdown",
      "metadata": {
        "id": "view-in-github",
        "colab_type": "text"
      },
      "source": [
        "<a href=\"https://colab.research.google.com/github/celii017/POO2/blob/main/Untitled0.ipynb\" target=\"_parent\"><img src=\"https://colab.research.google.com/assets/colab-badge.svg\" alt=\"Open In Colab\"/></a>"
      ]
    },
    {
      "cell_type": "code",
      "execution_count": 27,
      "metadata": {
        "id": "sMuzHFz7gZG-"
      },
      "outputs": [],
      "source": [
        "#Definir una clase libro\n",
        "# Cada objeto creado apartir de esta clase\n",
        "# En python , self es una referencia al objeto actual 8 es decir, a si mismo)\n",
        "# Se utiliza para acceder a atributos y metodos de la clase dentro de la\n",
        "\n",
        "# _init_() es un metodo especial llamado constructor\n",
        "# Se ejecuta automaticamente cuando se crea una nueva construccion\n",
        "\n",
        "class Libro:\n",
        "  def __init__(self, titulo, autor, isbn, precio):   # Constructor de la clase\n",
        "    self.titulo = titulo\n",
        "    self.autor = autor\n",
        "    self.isbn = isbn\n",
        "    self.precio = precio\n",
        "\n",
        "  def mostrar_info(self):        # Metodo\n",
        "    return f\"{self.titulo} por {self.autor} - ISBN: {self.isbn}  Precio: ${self.precio}\"\n",
        "\n"
      ]
    },
    {
      "cell_type": "code",
      "source": [
        "# Crear una instancia concreta de una clase, con datos especificos\n",
        "\n",
        "Libro1 = Libro(\"Cien años de Soledad\", \"Gabriel Gracia Marquez\",\n",
        "               \"9780307474728\" , 350.00)\n",
        "Libro2 = Libro(\"1984\", \"George Orwell\" , \"9780451524935\", 220.50)\n"
      ],
      "metadata": {
        "id": "hJ4JqYPrkJPh"
      },
      "execution_count": 28,
      "outputs": []
    },
    {
      "cell_type": "code",
      "source": [
        "print(Libro1.mostrar_info())\n",
        "print(Libro2.mostrar_info())\n"
      ],
      "metadata": {
        "colab": {
          "base_uri": "https://localhost:8080/"
        },
        "id": "Go3m6YPDlJpS",
        "outputId": "ba53b881-3811-4091-860a-9d4af03542a9"
      },
      "execution_count": 29,
      "outputs": [
        {
          "output_type": "stream",
          "name": "stdout",
          "text": [
            "Cien años de Soledad por Gabriel Gracia Marquez - ISBN: 9780307474728  Precio: $350.0\n",
            "1984 por George Orwell - ISBN: 9780451524935  Precio: $220.5\n"
          ]
        }
      ]
    }
  ]
}