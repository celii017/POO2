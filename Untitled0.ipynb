{
  "nbformat": 4,
  "nbformat_minor": 0,
  "metadata": {
    "colab": {
      "provenance": [],
      "include_colab_link": true
    },
    "kernelspec": {
      "name": "python3",
      "display_name": "Python 3"
    },
    "language_info": {
      "name": "python"
    }
  },
  "cells": [
    {
      "cell_type": "markdown",
      "metadata": {
        "id": "view-in-github",
        "colab_type": "text"
      },
      "source": [
        "<a href=\"https://colab.research.google.com/github/celii017/POO2/blob/main/Untitled0.ipynb\" target=\"_parent\"><img src=\"https://colab.research.google.com/assets/colab-badge.svg\" alt=\"Open In Colab\"/></a>"
      ]
    },
    {
      "cell_type": "code",
      "execution_count": 1,
      "metadata": {
        "id": "CLwYQ5bvuMaI"
      },
      "outputs": [],
      "source": [
        "class Prestamo:\n",
        "  def __init__(self, libro, cliente, fechadeinicio, fechadevolucion):   # Constructor de la clase\n",
        "    self.libro = libro\n",
        "    self.cliente = cliente\n",
        "    self.fechadeinicio = fechadeinicio\n",
        "    self.fechadevolucion = devolucion\n",
        "\n",
        "  def mostrar_info(self):        # Metodo\n",
        "    return f\"{self.libro} por {self.clinte} - ISBN: {self.fechadeinicio}  Precio: ${self.fechadevoluvon}\""
      ]
    },
    {
      "cell_type": "code",
      "source": [
        "class Libro:\n",
        "   def __init__(self, isbn, titulo, Autor, categoria, precio):\n",
        "       self.isbn = isbn\n",
        "       self.titulo = titulo\n",
        "       self.autor = Autor\n",
        "       self.categoria = categoria\n",
        "       self.precio = precio\n",
        "       self.prestado = False\n",
        "   def mostrar_info(self):\n",
        "    estado = \"Prestado\" if self.prestado else \"Disponible\"\n",
        "    print (f\"[{self.isbn}] por {self.titulo} - {self.autor} |{self.categoria} | ${self.precio} | {estado}\")"
      ],
      "metadata": {
        "id": "K1o98f0mhIH2"
      },
      "execution_count": 2,
      "outputs": []
    },
    {
      "cell_type": "code",
      "source": [
        "class Estudiante:\n",
        "  def __init__(self, num_control, titulo, Autor, categoria, precio):\n",
        "    self.isbn = isbn\n",
        "    self.titulo = titulo\n",
        "    self.autor = Autor\n",
        "    self.categoria = categoria\n",
        "    self.precio = precio\n",
        "    self.prestado = False\n",
        "def mostrar_info(self):\n",
        "    estado = \"Prestado\" if self.prestado else \"Disponible\"\n",
        "    print (f\"[{self.isbn}] por {self.titulo} - {self.autor} |{self.categoria} | ${self.precio} | {estado}\")"
      ],
      "metadata": {
        "id": "f1YZdFSmhLAL"
      },
      "execution_count": 3,
      "outputs": []
    },
    {
      "cell_type": "code",
      "source": [
        "class Venta:\n",
        "    contador_ventas = 1\n",
        "\n",
        "    def __init__(self, isbn, num_control, fecha, cantidad, importe):\n",
        "       self.folio_venta = venta_contador_ventas\n",
        "       Venta.contador_ventas += 1\n",
        "       self.isbn = isbn\n",
        "       self.num_control = num_control\n",
        "       self.fecha = fecha\n",
        "       self.cantidad = cantidad\n",
        "       self.importe = importe\n",
        "\n",
        "    def mostrar_info(self):\n",
        "      print (f\"Folio: {self.folio_venta} | ISBN: {self.isbn} | COMPRADOR: {self.num_control} | Fecha: ${self.fecha} | Cantidad: {self.cantidad} | Importe: ${self.Importe}\")"
      ],
      "metadata": {
        "id": "80FpAl49vpKK"
      },
      "execution_count": 4,
      "outputs": []
    },
    {
      "cell_type": "code",
      "source": [
        "def mostrar_menu():\n",
        "  print(\"/n-- SISTEMA DE LIBRERIA ESCOLAR ---\")\n",
        "  print(\"2. Dar de alta un estudiante\")\n",
        "  print(\"3. Consultar libro por ISBN\")\n",
        "  print(\"4. Consultar estudiante por numero de control\")\n",
        "  print(\"5.  Mostrar todos los libros\")\n",
        "  print(\"6.  Mostrar todos los estudintes\")\n",
        "  print(\"7. Realizar Prestamos\")\n",
        "  print(\"8.  Salir del sistema\")\n",
        "  print(\"9. Mostrar lista de prestamos\")\n",
        "  print(\"10.  Devolver libro\")\n",
        "  print(\"11. Mostrar historial de ventas \")\n",
        "  print(\"12.  Registrar venta\")"
      ],
      "metadata": {
        "id": "y6eAT7dWhcFj"
      },
      "execution_count": 5,
      "outputs": []
    },
    {
      "cell_type": "code",
      "source": [
        "def alta_libro():\n",
        "    print(\"\\n--- Alta de Libro ---\")\n",
        "    isbn = input(\"ISBN: \")\n",
        "    for libro in libros:\n",
        "        if libro.isbn == isbn:\n",
        "            print(\"Â¡Ya existe un libro con ese ISBN!\")\n",
        "            return\n",
        "    titulo = input(\"TÃ­tulo: \")\n",
        "    autor = input(\"Autor: \")\n",
        "    categoria = input(\"CategorÃ­a: \")\n",
        "    try:\n",
        "        precio = float(input(\"Precio: \"))\n",
        "    except ValueError:\n",
        "        print(\"Precio invÃ¡lido.\")\n",
        "        return\n",
        "    nuevo_libro = Libro(isbn, titulo, autor, categoria, precio)\n",
        "    libros.append(nuevo_libro)\n",
        "    print(\"Libro registrado exitosamente.\")\n",
        "\n",
        "\n",
        ""
      ],
      "metadata": {
        "id": "p_ghRZcgkYxw"
      },
      "execution_count": 7,
      "outputs": []
    },
    {
      "cell_type": "code",
      "source": [
        "def alta_estudiante():\n",
        "    print(\"\\n--- Alta de Estudiante ---\")\n",
        "    num_control = input(\"NÃºmero de control: \")\n",
        "    for est in estudiantes:\n",
        "        if est.num_control == num_control:\n",
        "            print(\"Â¡Ya existe un estudiante con ese nÃºmero de control!\")\n",
        "            return\n",
        "    nombre = input(\"Nombre: \")\n",
        "    carrera = input(\"Carrera: \")\n",
        "    fecha_nacimiento = input(\"Fecha de nacimiento (dd/mm/aaaa): \")\n",
        "    telefono = input(\"TelÃ©fono: \")\n",
        "    correo = input(\"Correo electrÃ³nico: \")\n",
        "    nuevo_estudiante = Estudiante(num_control, nombre, carrera, fecha_nacimiento, telefono, correo)\n",
        "    estudiantes.append(nuevo_estudiante)\n",
        "    print(\"Estudiante registrado exitosamente.\")"
      ],
      "metadata": {
        "id": "6rIa773UnRdM"
      },
      "execution_count": 9,
      "outputs": []
    },
    {
      "cell_type": "code",
      "source": [
        "def consultar_libro():\n",
        "    print(\"\\n--- Consultar Libro por ISBN ---\")\n",
        "    isbn = input(\"Ingrese el ISBN del libro: \")\n",
        "    for libro in libros:\n",
        "        if libro.isbn == isbn:\n",
        "            libro.mostrar_info()\n",
        "            return\n",
        "    print(\"Libro no encontrado.\")"
      ],
      "metadata": {
        "id": "8ix9QdhKvf16"
      },
      "execution_count": 11,
      "outputs": []
    },
    {
      "cell_type": "code",
      "source": [
        "\n",
        "def consultar_estudiante():\n",
        "    print(\"\\n--- Consultar Estudiante por NÃºmero de Control ---\")\n",
        "    num_control = input(\"Ingrese el nÃºmero de control: \")\n",
        "    for est in estudiantes:\n",
        "        if est.num_control == num_control:\n",
        "            est.mostrar_info()\n",
        "            return\n",
        "    print(\"Estudiante no encontrado.\")"
      ],
      "metadata": {
        "id": "RDjqGCqvwpRE"
      },
      "execution_count": 13,
      "outputs": []
    },
    {
      "cell_type": "code",
      "source": [
        "\n",
        "def mostrar_todos_libros():\n",
        "    print(\"\\n--- Lista de Todos los Libros ---\")\n",
        "    if not libros:\n",
        "        print(\"No hay libros registrados.\")\n",
        "    else:\n",
        "        for libro in libros:\n",
        "            libro.mostrar_info()"
      ],
      "metadata": {
        "id": "2Y97oP6xw2Db"
      },
      "execution_count": 14,
      "outputs": []
    },
    {
      "cell_type": "code",
      "source": [
        "def mostrar_todos_estudiantes():\n",
        "    print(\"\\n--- Lista de Todos los Estudiantes ---\")\n",
        "    if not estudiantes:\n",
        "        print(\"No hay estudiantes registrados.\")\n",
        "    else:\n",
        "        for est in estudiantes:\n",
        "            est.mostrar_info()"
      ],
      "metadata": {
        "id": "sWHPyeAtxEj-"
      },
      "execution_count": 15,
      "outputs": []
    },
    {
      "cell_type": "code",
      "source": [
        "def realizar_prestamo():\n",
        "    print(\"\\n--- Realizar PrÃ©stamo ---\")\n",
        "    num_control = input(\"NÃºmero de control del estudiante: \")\n",
        "    isbn = input(\"ISBN del libro: \")\n",
        "    estudiante = next((e for e in estudiantes if e.num_control == num_control), None)\n",
        "    if not estudiante:\n",
        "        print(\"Estudiante no encontrado.\")\n",
        "        return\n",
        "    libro = next((l for l in libros if l.isbn == isbn), None)\n",
        "    if not libro:\n",
        "        print(\"Libro no encontrado.\")\n",
        "        return\n",
        "    if libro.prestado:\n",
        "        print(\"El libro ya estÃ¡ prestado.\")\n",
        "        return\n",
        "    fecha_inicio = input(\"Fecha de inicio (dd/mm/aaaa): \")\n",
        "    fecha_termino = input(\"Fecha de tÃ©rmino (dd/mm/aaaa): \")\n",
        "    prestamo = Prestamo(num_control, isbn, fecha_inicio, fecha_termino)\n",
        "    prestamos.append(prestamo)\n",
        "    libro.prestado = True\n",
        "    print(f\"PrÃ©stamo registrado con folio {prestamo.folio}.\")"
      ],
      "metadata": {
        "id": "DDsBU9g6xH-N"
      },
      "execution_count": 16,
      "outputs": []
    },
    {
      "cell_type": "code",
      "source": [
        "def mostrar_prestamos():\n",
        "    print(\"\\n--- Lista de PrÃ©stamos ---\")\n",
        "    if not prestamos:\n",
        "        print(\"No hay prÃ©stamos registrados.\")\n",
        "    else:\n",
        "        for p in prestamos:\n",
        "            p.mostrar_info()"
      ],
      "metadata": {
        "id": "_dy-52qdxTsn"
      },
      "execution_count": 17,
      "outputs": []
    },
    {
      "cell_type": "code",
      "source": [
        "def devolver_libro():\n",
        "    print(\"\\n--- Devolver Libro ---\")\n",
        "    try:\n",
        "        folio = int(input(\"Folio del prÃ©stamo a devolver: \"))\n",
        "    except ValueError:\n",
        "        print(\"Folio invÃ¡lido.\")\n",
        "        return\n",
        "    prestamo = next((p for p in prestamos if p.folio == folio), None)\n",
        "    if not prestamo:\n",
        "        print(\"PrÃ©stamo no encontrado.\")\n",
        "        return\n",
        "    libro = next((l for l in libros if l.isbn == prestamo.isbn), None)\n",
        "    if libro:\n",
        "        libro.prestado = False\n",
        "        prestamos.remove(prestamo)\n",
        "        print(f\"Libro '{libro.titulo}' devuelto correctamente.\")\n",
        "    else:\n",
        "        print(\"Libro no encontrado.\")\n"
      ],
      "metadata": {
        "id": "ktTp9x55tlWZ"
      },
      "execution_count": 12,
      "outputs": []
    },
    {
      "cell_type": "code",
      "source": [
        "def registrar_venta():\n",
        "    print(\"\\n--- Registrar Venta ---\")\n",
        "    isbn = input(\"ISBN del libro a vender: \")\n",
        "    libro = next((l for l in libros if l.isbn == isbn), None)\n",
        "    if not libro:\n",
        "        print(\"Libro no encontrado.\")\n",
        "        return\n",
        "    try:\n",
        "        cantidad = int(input(\"Cantidad a vender (solo 1 por ahora): \"))\n",
        "        if cantidad != 1:\n",
        "            print(\"Solo se permite vender 1 unidad.\")\n",
        "            return\n",
        "    except ValueError:\n",
        "        print(\"Cantidad invÃ¡lida.\")\n",
        "        return\n",
        "    num_control = input(\"NÃºmero de control del comprador (999999 si es pÃºblico general): \")\n",
        "    if num_control != \"999999\":\n",
        "        estudiante = next((e for e in estudiantes if e.num_control == num_control), None)\n",
        "        if not estudiante:\n",
        "            print(\"Estudiante no encontrado.\")\n",
        "            return\n",
        "    fecha = input(\"Fecha de la venta (dd/mm/aaaa): \")\n",
        "    importe = libro.precio * cantidad\n",
        "    venta = Venta(isbn, num_control, fecha, cantidad, importe)\n",
        "    ventas.append(venta)\n",
        "    libros.remove(libro)\n",
        "    print(f\"Venta registrada. Folio: {venta.folio_venta}\")"
      ],
      "metadata": {
        "id": "nkzN8iE8xbyy"
      },
      "execution_count": 18,
      "outputs": []
    },
    {
      "cell_type": "code",
      "source": [
        "def mostrar_historial_ventas():\n",
        "    print(\"\\n--- Historial de Ventas ---\")\n",
        "    if not ventas:\n",
        "        print(\"No hay ventas registradas.\")\n",
        "    else:\n",
        "        for v in ventas:\n",
        "            v.mostrar_info()"
      ],
      "metadata": {
        "id": "7YifccPVxf2t"
      },
      "execution_count": 19,
      "outputs": []
    },
    {
      "cell_type": "code",
      "source": [
        "def mostrar_menu():\n",
        "    print(\"\\n--- SISTEMA DE LIBRERÃA ESCOLAR ---\")\n",
        "    print(\"1. Dar de alta libro\")\n",
        "    print(\"2. Dar de alta estudiante\")\n",
        "    print(\"3. Consultar libro por ISBN\")\n",
        "    print(\"4. Consultar estudiante por nÃºmero de control\")\n",
        "    print(\"5. Mostrar todos los libros\")\n",
        "    print(\"6. Mostrar todos los estudiantes\")\n",
        "    print(\"7. Realizar prÃ©stamo\")\n",
        "    print(\"8. Mostrar prÃ©stamos\")\n",
        "    print(\"9. Devolver libro\")\n",
        "    print(\"10. Registrar ventas\")\n",
        "    print(\"11. Mostrar historial de Venta\")\n",
        "    print(\"12. Salir del sistema\")"
      ],
      "metadata": {
        "id": "ZJ7u-6TNxjQz"
      },
      "execution_count": 20,
      "outputs": []
    },
    {
      "cell_type": "code",
      "source": [
        "def iniciar_sistema():\n",
        "    while True:\n",
        "        mostrar_menu()\n",
        "        opcion = input(\"Seleccione una opciÃ³n: \")\n",
        "        if opcion == \"1\":\n",
        "            alta_libro()\n",
        "        elif opcion == \"2\":\n",
        "            alta_estudiante()\n",
        "        elif opcion == \"3\":\n",
        "            consultar_libro()\n",
        "        elif opcion == \"4\":\n",
        "            consultar_estudiante()\n",
        "        elif opcion == \"5\":\n",
        "            mostrar_todos_libros()\n",
        "        elif opcion == \"6\":\n",
        "            mostrar_todos_estudiantes()\n",
        "        elif opcion == \"7\":\n",
        "            realizar_prestamo()\n",
        "        elif opcion == \"8\":\n",
        "            mostrar_prestamos()\n",
        "        elif opcion == \"9\":\n",
        "            devolver_libro()\n",
        "        elif opcion == \"10\":\n",
        "            registrar_venta()\n",
        "        elif opcion == \"11\":\n",
        "            mostrar_historial_ventas()\n",
        "        elif opcion == \"12\":\n",
        "            print(\"Saliendo del sistema. Â¡Hasta luego!\")\n",
        "            break\n",
        "        else:\n",
        "            print(\"OpciÃ³n no vÃ¡lida. Intente de nuevo.\")\n",
        "\n",
        "\n",
        "##  Programa principal\n",
        "libros = []\n",
        "estudiantes = []\n",
        "prestamos = []\n",
        "ventas = []\n",
        "\n",
        "# Iniciar el sistema\n",
        "iniciar_sistema()"
      ],
      "metadata": {
        "id": "PgPKhFomx4UX",
        "outputId": "fbd6c84f-9163-45a3-94f0-95f65dd9ebf3",
        "colab": {
          "base_uri": "https://localhost:8080/"
        }
      },
      "execution_count": null,
      "outputs": [
        {
          "output_type": "stream",
          "name": "stdout",
          "text": [
            "\n",
            "--- SISTEMA DE LIBRERÃA ESCOLAR ---\n",
            "1. Dar de alta libro\n",
            "2. Dar de alta estudiante\n",
            "3. Consultar libro por ISBN\n",
            "4. Consultar estudiante por nÃºmero de control\n",
            "5. Mostrar todos los libros\n",
            "6. Mostrar todos los estudiantes\n",
            "7. Realizar prÃ©stamo\n",
            "8. Mostrar prÃ©stamos\n",
            "9. Devolver libro\n",
            "10. Registrar ventas\n",
            "11. Mostrar historial de Venta\n",
            "12. Salir del sistema\n",
            "Seleccione una opciÃ³n: 1\n",
            "\n",
            "--- Alta de Libro ---\n",
            "ISBN: 234\n",
            "TÃ­tulo: gols\n",
            "Autor: celina\n",
            "CategorÃ­a: terror\n",
            "Precio: 700\n",
            "Libro registrado exitosamente.\n",
            "\n",
            "--- SISTEMA DE LIBRERÃA ESCOLAR ---\n",
            "1. Dar de alta libro\n",
            "2. Dar de alta estudiante\n",
            "3. Consultar libro por ISBN\n",
            "4. Consultar estudiante por nÃºmero de control\n",
            "5. Mostrar todos los libros\n",
            "6. Mostrar todos los estudiantes\n",
            "7. Realizar prÃ©stamo\n",
            "8. Mostrar prÃ©stamos\n",
            "9. Devolver libro\n",
            "10. Registrar ventas\n",
            "11. Mostrar historial de Venta\n",
            "12. Salir del sistema\n"
          ]
        }
      ]
    }
  ]
}