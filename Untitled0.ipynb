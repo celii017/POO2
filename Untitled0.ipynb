{
  "nbformat": 4,
  "nbformat_minor": 0,
  "metadata": {
    "colab": {
      "provenance": [],
      "authorship_tag": "ABX9TyMSCqe3+FGxbUcNon33wKmi",
      "include_colab_link": true
    },
    "kernelspec": {
      "name": "python3",
      "display_name": "Python 3"
    },
    "language_info": {
      "name": "python"
    }
  },
  "cells": [
    {
      "cell_type": "markdown",
      "metadata": {
        "id": "view-in-github",
        "colab_type": "text"
      },
      "source": [
        "<a href=\"https://colab.research.google.com/github/celii017/POO2/blob/main/Untitled0.ipynb\" target=\"_parent\"><img src=\"https://colab.research.google.com/assets/colab-badge.svg\" alt=\"Open In Colab\"/></a>"
      ]
    },
    {
      "cell_type": "code",
      "execution_count": 2,
      "metadata": {
        "id": "CLwYQ5bvuMaI"
      },
      "outputs": [],
      "source": [
        "class Prestamo:\n",
        "  def __init__(self, libro, cliente, fechadeinicio, fechadevolucion):   # Constructor de la clase\n",
        "    self.libro = libro\n",
        "    self.cliente = cliente\n",
        "    self.fechadeinicio = fechadeinicio\n",
        "    self.fechadevolucion = devolucion\n",
        "\n",
        "  def mostrar_info(self):        # Metodo\n",
        "    return f\"{self.libro} por {self.clinte} - ISBN: {self.fechadeinicio}  Precio: ${self.fechadevoluvon}\""
      ]
    },
    {
      "cell_type": "code",
      "source": [],
      "metadata": {
        "id": "Skz2yVf4weD7"
      },
      "execution_count": null,
      "outputs": []
    },
    {
      "cell_type": "code",
      "source": [
        "class Venta:\n",
        "  def __init__(self, cliente, libro, total, fecha):   # Constructor de la clase\n",
        "    self.cliente = cliente\n",
        "    self.libro = list\n",
        "    self.total = float\n",
        "    self.fecha = date\n",
        "\n",
        "  def mostrar_info(self):        # Metodo\n",
        "    return f\"{self.cliente} por {self.libro} - ISBN: {self.total}  Precio: ${self.fecha}\""
      ],
      "metadata": {
        "id": "80FpAl49vpKK"
      },
      "execution_count": 3,
      "outputs": []
    },
    {
      "cell_type": "code",
      "source": [],
      "metadata": {
        "id": "8ix9QdhKvf16"
      },
      "execution_count": null,
      "outputs": []
    }
  ]
}